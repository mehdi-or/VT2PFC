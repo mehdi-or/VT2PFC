{
  "nbformat": 4,
  "nbformat_minor": 0,
  "metadata": {
    "colab": {
      "provenance": [],
      "collapsed_sections": [
        "sR5xtc3vZpXx"
      ],
      "authorship_tag": "ABX9TyMnNRrIFAAyVeQVOiUrcFow",
      "include_colab_link": true
    },
    "kernelspec": {
      "name": "python3",
      "display_name": "Python 3"
    },
    "language_info": {
      "name": "python"
    }
  },
  "cells": [
    {
      "cell_type": "markdown",
      "metadata": {
        "id": "view-in-github",
        "colab_type": "text"
      },
      "source": [
        "<a href=\"https://colab.research.google.com/github/mehdi-or/VT2PFC/blob/main/Alternating_DATRACE.ipynb\" target=\"_parent\"><img src=\"https://colab.research.google.com/assets/colab-badge.svg\" alt=\"Open In Colab\"/></a>"
      ]
    },
    {
      "cell_type": "code",
      "execution_count": 2,
      "metadata": {
        "id": "XQaaLOZCZaAU",
        "colab": {
          "base_uri": "https://localhost:8080/"
        },
        "outputId": "93e86bae-fb03-433a-8700-ebd328e5f119"
      },
      "outputs": [
        {
          "output_type": "stream",
          "name": "stdout",
          "text": [
            "Mounted at /content/gdrive\n"
          ]
        }
      ],
      "source": [
        "import sys\n",
        "from google.colab import drive\n",
        "drive.mount('/content/gdrive')\n",
        "\n",
        "import torch\n",
        "import torch.nn as nn\n",
        "import torch.nn.functional as F\n",
        "from torch.utils.data import DataLoader\n",
        "import torchvision\n",
        "from torchvision import datasets, transforms\n",
        "import torchvision.transforms as transforms\n",
        "import torch.optim as optim\n",
        "import matplotlib.pyplot as plt\n",
        "from sklearn.preprocessing import MinMaxScaler\n",
        "import random\n",
        "import matplotlib.pyplot as plt\n",
        "import numpy as np\n",
        "import pandas as pd\n",
        "import h5py\n",
        "from sklearn.model_selection import train_test_split\n",
        "from torch.utils.data import TensorDataset"
      ]
    },
    {
      "cell_type": "markdown",
      "source": [
        "## Function for setting seed for reproducility"
      ],
      "metadata": {
        "id": "34eaW-icZk8Y"
      }
    },
    {
      "cell_type": "code",
      "source": [
        "def set_seed(seed_value=42):\n",
        "    \"\"\"Set seed for reproducibility.\"\"\"\n",
        "    random.seed(seed_value)  # Python random module\n",
        "    np.random.seed(seed_value)  # Numpy module\n",
        "    torch.manual_seed(seed_value)  # PyTorch random number generator for CPU\n",
        "\n",
        "    # If you are using CUDA\n",
        "    torch.cuda.manual_seed(seed_value)\n",
        "    torch.cuda.manual_seed_all(seed_value)  # if you are using multi-GPU.\n",
        "\n",
        "    # Additional configurations to enhance reproducibility\n",
        "    torch.backends.cudnn.deterministic = True\n",
        "    torch.backends.cudnn.benchmark = False"
      ],
      "metadata": {
        "id": "ibjoKU_9ZmEz"
      },
      "execution_count": 3,
      "outputs": []
    },
    {
      "cell_type": "markdown",
      "source": [
        "## My Implimentation of DATRACE (VT2PF)"
      ],
      "metadata": {
        "id": "sR5xtc3vZpXx"
      }
    },
    {
      "cell_type": "code",
      "source": [
        "class DATRACE(nn.Module):\n",
        "    def __init__(self, input_size_VT, input_size_PF, hidden_size, bottleneck_size, num_classes):\n",
        "        super(DATRACE, self).__init__()\n",
        "        # Encoder\n",
        "        self.VT_in = nn.Linear(input_size_VT, hidden_size)\n",
        "        self.PF_in = nn.Linear(input_size_PF, hidden_size)\n",
        "        self.fc2 = nn.Linear(hidden_size, bottleneck_size)\n",
        "\n",
        "        # Decoder\n",
        "        self.fc3 = nn.Linear(bottleneck_size, hidden_size)\n",
        "        self.PF_out = nn.Linear(hidden_size, input_size_PF)\n",
        "        self.VT_out = nn.Linear(hidden_size, input_size_VT)\n",
        "\n",
        "        # Classifier connected to the bottleneck\n",
        "        self.classifier = nn.Linear(bottleneck_size, num_classes)\n",
        "\n",
        "        # Dropout layer\n",
        "        self.dropout = nn.Dropout(p=0.2)\n",
        "\n",
        "    def forward(self, x1, x2):\n",
        "        # Encoder 1\n",
        "        x1 = torch.tanh(self.VT_in(x1))\n",
        "        x1 = self.dropout(x1)\n",
        "        encoded = torch.tanh(self.fc2(x1))\n",
        "\n",
        "        #Encoder 2\n",
        "        x2 = torch.tanh(self.VT_in(x2))\n",
        "        x2 = self.dropout(x2)\n",
        "        encoded = torch.tanh(self.fc2(x2)) # here the \"encoded\" is simply just overwritten by \"fc2(x2)\". This is a problem that requires to concatenate the ouput of fc2(x1) and fc2(x2)\n",
        "\n",
        "        # Decoder 1\n",
        "        x1 = torch.tanh(self.fc3(encoded))\n",
        "        decoded_PF = self.PF_out(x1)\n",
        "\n",
        "        # Decoder 2\n",
        "        x2 = torch.tanh(self.fc3(encoded))\n",
        "        decoded_VT = self.VT_out(x2)\n",
        "\n",
        "        # Classifier\n",
        "        logits = self.classifier(encoded)\n",
        "        #probabilities = F.softmax(logits, dim=1)\n",
        "        probabilities = logits\n",
        "\n",
        "        return decoded_PF, decoded_VT, probabilities\n",
        "\n",
        "\n",
        "# Example model instantiation\n",
        "input_size_VT = 1500 # e.g., for MNIST\n",
        "input_size_PF = 1000\n",
        "hidden_size = 128\n",
        "bottleneck_size = 32\n",
        "num_classes = 10 # e.g., for MNIST classification\n",
        "\n",
        "model = DATRACE(input_size_VT=input_size_VT, input_size_PF=input_size_PF, hidden_size=hidden_size,\n",
        "                                  bottleneck_size=bottleneck_size, num_classes=num_classes)\n",
        "print(model)\n"
      ],
      "metadata": {
        "id": "sJWeg7UsZpFB"
      },
      "execution_count": null,
      "outputs": []
    },
    {
      "cell_type": "markdown",
      "source": [
        "##Importing and preprocessing the data"
      ],
      "metadata": {
        "id": "AuBoZXmmNKNQ"
      }
    },
    {
      "cell_type": "code",
      "source": [
        "def load_data_VTC(subject):\n",
        "    with h5py.File(r'/content/gdrive/MyDrive/Colab Notebooks/CNC data/hrfAll_VT_PETERS.hdf5', 'r') as hdf:\n",
        "        data0 = hdf.get('items/'+str(subject)+'/rcargs/items/0')\n",
        "        data_vtc = np.array(data0)\n",
        "        data_vtc = np.delete(data_vtc,np.where(~data_vtc.any(axis=0))[0],axis=1)\n",
        "    return(data_vtc)\n",
        "\n",
        "def load_data_PFC(subject):\n",
        "    with h5py.File(r'/content/gdrive/MyDrive/Colab Notebooks/CNC data/hrfAll_DLPFC_PETERS.hdf5', 'r') as hdf:\n",
        "        data0_pfc = hdf.get('items/'+str(subject)+'/rcargs/items/0')\n",
        "        data_pfc = np.array(data0_pfc)\n",
        "        data_pfc = np.delete(data_pfc,np.where(~data_pfc.any(axis=0))[0],axis=1)\n",
        "    return(data_pfc)\n",
        "\n",
        "def preprocessign (data, labels2categ, shuffle_index):\n",
        "  data_train, data_test, y_categ_train, y_categ_test, map_train_index, map_test_index = train_test_split(data, labels2categ, shuffle_index, random_state=42)\n",
        "  #scaler = StandardScaler()\n",
        "  scaler = MinMaxScaler(feature_range=(-1,1))\n",
        "  X_train = scaler.fit_transform(data_train)\n",
        "  X_test = scaler.transform(data_test)\n",
        "  return X_train, X_test, y_categ_train, y_categ_test, map_train_index, map_test_index\n",
        "\n",
        "#setting the labels for pytorch is differen from keras\n",
        "# the way it works is that we need to assign a number to each categorical class\n",
        "unique_labels = pd.read_csv('/content/gdrive/MyDrive/Colab Notebooks/CNC data/unique_aranged.csv', header=None).values[:,1]\n",
        "labels = pd.read_csv('/content/gdrive/MyDrive/Colab Notebooks/CNC data/label.csv')['y'].values\n",
        "label_to_index = {label: idx for idx, label in enumerate(unique_labels)} #mapping form label to its numeric value\n",
        "index_to_label = {idx: label for label, idx in label_to_index.items()} #mapping from numeric label to the name of the label\n",
        "\n",
        "#turning label file into its numeric values\n",
        "numeric_labels = []\n",
        "for label in labels:\n",
        "  numeric_labels.append(label_to_index[label])\n",
        "\n",
        "numeric_labels = np.array(numeric_labels)\n",
        "device = torch.device(\"cuda\" if torch.cuda.is_available() else \"cpu\")\n",
        "#converting all the numpy array inot pytorch tensor\n",
        "\n",
        "VTC = load_data_VTC(37)\n",
        "PFC = load_data_PFC(37)\n",
        "shuffle_index = np.arange(0,3600)\n",
        "VTC_train, VTC_test, y_train, y_test, map_train_index, map_test_index = preprocessign(VTC, numeric_labels, shuffle_index)\n",
        "PFC_train, PFC_test, _, _, _, _ = preprocessign(PFC, numeric_labels, shuffle_index)\n",
        "\n",
        "VTC_tensor_train = torch.tensor(VTC_train, dtype=torch.float32).to(device)\n",
        "VTC_tensor_test = torch.tensor(VTC_test, dtype=torch.float32).to(device)\n",
        "\n",
        "PFC_tensor_train = torch.tensor(PFC_train, dtype=torch.float32).to(device)\n",
        "PFC_tensor_test = torch.tensor(PFC_test, dtype=torch.float32).to(device)\n",
        "\n",
        "y_tensor_train = torch.tensor(y_train)\n",
        "y_tensor_test =torch.tensor(y_test)\n",
        "\n",
        "VTC_train_dataset = TensorDataset(VTC_tensor_train, y_tensor_train)\n",
        "VTC_test_dataset = TensorDataset(VTC_tensor_test, y_tensor_test)\n",
        "\n",
        "PFC_train_dataset = TensorDataset(PFC_tensor_train, y_tensor_train)\n",
        "PFC_test_dataset = TensorDataset(PFC_tensor_test, y_tensor_test)\n",
        "\n",
        "set_seed(42)\n",
        "VTC_train_loader = DataLoader(VTC_train_dataset, batch_size=64, shuffle=True)\n",
        "VTC_test_loader = DataLoader(VTC_train_dataset, batch_size=64, shuffle=False)\n",
        "\n",
        "PFC_train_loader = DataLoader(PFC_train_dataset, batch_size=64, shuffle=True)\n",
        "PFC_test_loader = DataLoader(PFC_train_dataset, batch_size=64, shuffle=False)\n",
        "\n",
        "train_dataset = TensorDataset(VTC_tensor_train, PFC_tensor_train, y_tensor_train)\n",
        "test_dataset = TensorDataset(VTC_tensor_test, PFC_tensor_test, y_tensor_test)\n",
        "set_seed(42)\n",
        "train_loader = DataLoader(train_dataset, batch_size=64, shuffle=True)\n",
        "test_loader = DataLoader(train_dataset, batch_size=64, shuffle=False)\n",
        "# 2. Define the model, optimizer, and loss functions\n",
        "input_size_VT = VTC_train.shape[1]\n",
        "input_size_PF = PFC_train.shape[1]\n",
        "hidden_size = 500\n",
        "bottleneck_size = 50\n",
        "num_classes = len(unique_labels)"
      ],
      "metadata": {
        "id": "RGzgqLqzNK5O"
      },
      "execution_count": 4,
      "outputs": []
    },
    {
      "cell_type": "markdown",
      "source": [
        "##GPT implementation of alternating architecture"
      ],
      "metadata": {
        "id": "yVnogIY3ZtbX"
      }
    },
    {
      "cell_type": "code",
      "source": [
        "class DATRACE(nn.Module):\n",
        "    def __init__(self, input_dim_VT, input_dim_PF, hidden_dim, bottleneck_dim, num_classes, VT_update =True):\n",
        "        super(DATRACE, self).__init__()\n",
        "        # Encoding layers for the VTC\n",
        "        self.encoder_a = nn.Linear(input_dim_VT, hidden_dim)\n",
        "        # Encoding layers for PFC\n",
        "        self.encoder_b = nn.Linear(input_dim_PF, hidden_dim)\n",
        "\n",
        "        # Shared bottleneck layer\n",
        "        self.shared_bottleneck = nn.Linear(hidden_dim, bottleneck_dim)  # Assume same dim for simplicity\n",
        "\n",
        "        # Decoding layers for PFC\n",
        "        self.decoder_a = nn.Linear(bottleneck_dim, hidden_dim)\n",
        "        self.prediction_PF = nn.Linear(hidden_dim, input_dim_PF)\n",
        "\n",
        "        # Decoding layers for VTC\n",
        "        self.decoder_b = nn.Linear(bottleneck_dim, hidden_dim)\n",
        "        self.prediction_VT = nn.Linear(hidden_dim, input_dim_VT)\n",
        "\n",
        "        # Classification layer attached to the shared bottleneck\n",
        "        self.classifier = nn.Linear(bottleneck_dim, num_classes)\n",
        "    '''\n",
        "    def forward_VT2PF(self, x_a):\n",
        "        encoded_a = torch.tanh(self.encoder_a(x_a))\n",
        "        bottleneck = torch.tanh(self.shared_bottleneck(encoded_a))\n",
        "        decoded_a = torch.tanh(self.decoder_a(bottleneck))\n",
        "        predicted_PF = self.prediction_PF(decoded_a)\n",
        "        class_logits = self.classifier(bottleneck)\n",
        "        return predicted_PF, class_logits\n",
        "\n",
        "    def forward_PF2VT(self, x_b):\n",
        "        encoded_b = torch.tanh(self.encoder_b(x_b))\n",
        "        bottleneck = torch.tanh(self.shared_bottleneck(encoded_b))\n",
        "        decoded_b = torch.tanh(self.decoder_b(bottleneck))\n",
        "        predicted_VT = self.prediction_VT(decoded_b)\n",
        "        class_logits = self.classifier(bottleneck)\n",
        "        return predicted_VT, class_logits\n",
        "    '''\n",
        "\n",
        "    def forward(self, x_a, x_b, VT_update=True):\n",
        "        encoded_a = torch.tanh(self.encoder_a(x_a))\n",
        "        encoded_b = torch.tanh(self.encoder_b(x_b))\n",
        "        if VT_update:\n",
        "          bottleneck = torch.tanh(self.shared_bottleneck(encoded_a))\n",
        "        else:\n",
        "          bottleneck = torch.tanh(self.shared_bottleneck(encoded_b))\n",
        "        decoded_a = torch.tanh(self.decoder_a(bottleneck))\n",
        "        decoded_b = torch.tanh(self.decoder_b(bottleneck))\n",
        "        predicted_PF = self.prediction_PF(decoded_a)\n",
        "        predicted_VT = self.prediction_VT(decoded_b)\n",
        "        class_logits = self.classifier(bottleneck)\n",
        "        return predicted_PF, predicted_VT, class_logits\n",
        "\n",
        "'''\n",
        "# Example usage\n",
        "input_dim_a = 784  # Example dimensions for different inputs\n",
        "input_dim_b = 512\n",
        "hidden_dim = 128  # Set equal for simplicity\n",
        "bottleneck_dim = 32\n",
        "num_classes = 10  # For multi-class classification\n",
        "\n",
        "model = DATRACE(input_dim_a, input_dim_b, hidden_dim, bottleneck_dim, num_classes)\n",
        "\n",
        "# Example inputs\n",
        "x_a = torch.randn(10, input_dim_a)  # Batch of inputs for branch A\n",
        "x_b = torch.randn(10, input_dim_b)  # Batch of inputs for branch B\n",
        "\n",
        "# Forward passes\n",
        "reconstructed_a, class_logits_a = model.forward_VT2PF(x_a)\n",
        "reconstructed_b, class_logits_b = model.forward_PF2VT(x_b)\n",
        "\n",
        "print(f\"Reconstruction A Shape: {reconstructed_a.shape}, Classification Logits A Shape: {class_logits_a.shape}\")\n",
        "print(f\"Reconstruction B Shape: {reconstructed_b.shape}, Classification Logits B Shape: {class_logits_b.shape}\")\n",
        "'''"
      ],
      "metadata": {
        "id": "0nvmf6ZRZt6H",
        "colab": {
          "base_uri": "https://localhost:8080/",
          "height": 105
        },
        "outputId": "4e94ec66-7d43-4328-9a23-1f42fc4c2713"
      },
      "execution_count": 5,
      "outputs": [
        {
          "output_type": "execute_result",
          "data": {
            "text/plain": [
              "'\\n# Example usage\\ninput_dim_a = 784  # Example dimensions for different inputs\\ninput_dim_b = 512\\nhidden_dim = 128  # Set equal for simplicity\\nbottleneck_dim = 32\\nnum_classes = 10  # For multi-class classification\\n\\nmodel = DATRACE(input_dim_a, input_dim_b, hidden_dim, bottleneck_dim, num_classes)\\n\\n# Example inputs\\nx_a = torch.randn(10, input_dim_a)  # Batch of inputs for branch A\\nx_b = torch.randn(10, input_dim_b)  # Batch of inputs for branch B\\n\\n# Forward passes\\nreconstructed_a, class_logits_a = model.forward_VT2PF(x_a)\\nreconstructed_b, class_logits_b = model.forward_PF2VT(x_b)\\n\\nprint(f\"Reconstruction A Shape: {reconstructed_a.shape}, Classification Logits A Shape: {class_logits_a.shape}\")\\nprint(f\"Reconstruction B Shape: {reconstructed_b.shape}, Classification Logits B Shape: {class_logits_b.shape}\")\\n'"
            ],
            "application/vnd.google.colaboratory.intrinsic+json": {
              "type": "string"
            }
          },
          "metadata": {},
          "execution_count": 5
        }
      ]
    },
    {
      "cell_type": "markdown",
      "source": [
        "##GPT alternating Training"
      ],
      "metadata": {
        "id": "07s4t25WZ4Vq"
      }
    },
    {
      "cell_type": "code",
      "source": [
        "# Model, Loss Functions, and Optimizer\n",
        "model = DATRACE(input_size_VT, input_size_PF, hidden_size, bottleneck_size, num_classes)\n",
        "mse_loss_fn = nn.MSELoss()\n",
        "cross_entropy_loss_fn = nn.CrossEntropyLoss()\n",
        "optimizer = optim.Adam(model.parameters(), lr=0.001)\n",
        "\n",
        "train_loss_hist = []\n",
        "train_loss_VTC_hist = []\n",
        "train_loss_PFC_hist = []\n",
        "train_loss_class_hist = []\n",
        "\n",
        "def train_model(network, train_loader, update_VT=True):\n",
        "    \"\"\"\n",
        "    Trains either branches A or B, based on the function passed in `network`.\n",
        "    If `update_classifier` is True, also updates the classifier.\n",
        "    \"\"\"\n",
        "    network.train()\n",
        "    predicted_loss_VTC = 0\n",
        "    predicted_loss_PFC = 0\n",
        "    classification_loss = 0\n",
        "    train_loss = 0\n",
        "    alpha = 0\n",
        "    for input_VTC, input_PFC, labels in train_loader:\n",
        "        optimizer.zero_grad()\n",
        "        predicted_PFC, predicted_VTC, class_logits = network(input_VTC, input_PFC, update_VT)\n",
        "\n",
        "        # Calculate losses\n",
        "        predicted_loss_PFC0 = (1-alpha)/2*mse_loss_fn(predicted_PFC, input_PFC)\n",
        "        predicted_loss_VTC0 = (1-alpha)/2*mse_loss_fn(predicted_VTC, input_VTC)\n",
        "        classification_loss0 = alpha*cross_entropy_loss_fn(class_logits, labels)\n",
        "\n",
        "        # Total loss\n",
        "        total_loss = predicted_loss_PFC0 + predicted_loss_VTC0 + classification_loss0\n",
        "\n",
        "        # Backpropagation and optimizer step\n",
        "        total_loss.backward()\n",
        "        optimizer.step()\n",
        "        predicted_loss_VTC += predicted_loss_VTC0.item()\n",
        "        predicted_loss_PFC += predicted_loss_PFC0.item()\n",
        "        classification_loss += classification_loss0.item()\n",
        "        train_loss += total_loss.item()\n",
        "    predicted_loss_VTC /= len(train_loader)\n",
        "    predicted_loss_PFC /= len(train_loader)\n",
        "    classification_loss /= len(train_loader)\n",
        "    train_loss /= len(train_loader)\n",
        "    return predicted_loss_VTC, predicted_loss_PFC, classification_loss, train_loss\n",
        "\n",
        "def test_model(network, data_loader, update_VT=True):\n",
        "  model.eval()\n",
        "  val_loss = 0\n",
        "  class_loss = 0\n",
        "  val_loss_hist = []\n",
        "  val_loss_VTC_hist =[]\n",
        "  val_loss_PFC_hist =[]\n",
        "\n",
        "\n",
        "# Training Loop\n",
        "num_epochs = 250  # Example setting\n",
        "for epoch in range(num_epochs):\n",
        "    # Alternate training between branches and classifier\n",
        "    if epoch % 2 == 0:\n",
        "        update_VT=True\n",
        "        # Freeze parameters for branch B\n",
        "        for param in model.encoder_b.parameters():\n",
        "            param.requires_grad = False\n",
        "        for param in model.decoder_b.parameters():\n",
        "            param.requires_grad = False\n",
        "\n",
        "        # Unfreeze and train branch A\n",
        "        for param in model.encoder_a.parameters():\n",
        "            param.requires_grad = True\n",
        "        for param in model.decoder_a.parameters():\n",
        "            param.requires_grad = True\n",
        "        predicted_loss_VTC, predicted_loss_PFC, classification_loss, train_loss = train_model(model, train_loader, update_VT)\n",
        "        train_loss_VTC_hist.append(predicted_loss_VTC)\n",
        "        train_loss_PFC_hist.append(predicted_loss_PFC)\n",
        "        train_loss_class_hist.append(classification_loss)\n",
        "        train_loss_hist.append(train_loss)\n",
        "\n",
        "    else:\n",
        "        update_VT=False\n",
        "        # Freeze parameters for branch A\n",
        "        for param in model.encoder_a.parameters():\n",
        "            param.requires_grad = False\n",
        "        for param in model.decoder_a.parameters():\n",
        "            param.requires_grad = False\n",
        "\n",
        "        # Unfreeze and train branch B\n",
        "        for param in model.encoder_b.parameters():\n",
        "            param.requires_grad = True\n",
        "        for param in model.decoder_b.parameters():\n",
        "            param.requires_grad = True\n",
        "        predicted_loss_VTC, predicted_loss_PFC, classification_loss, train_loss = train_model(model, train_loader, update_VT)\n",
        "        train_loss_VTC_hist.append(predicted_loss_VTC)\n",
        "        train_loss_PFC_hist.append(predicted_loss_PFC)\n",
        "        train_loss_class_hist.append(classification_loss)\n",
        "        train_loss_hist.append(train_loss)\n",
        "    if (epoch+1)%(num_epochs/10)==0:\n",
        "      print(f\"Epoch {epoch+1}/{num_epochs} completed.\")\n"
      ],
      "metadata": {
        "id": "nBJwrz_VZ6Cq",
        "colab": {
          "base_uri": "https://localhost:8080/"
        },
        "outputId": "dbfa279d-0496-4ccc-afbb-060a658dd61a"
      },
      "execution_count": 63,
      "outputs": [
        {
          "output_type": "stream",
          "name": "stdout",
          "text": [
            "Epoch 25/250 completed.\n",
            "Epoch 50/250 completed.\n",
            "Epoch 75/250 completed.\n",
            "Epoch 100/250 completed.\n",
            "Epoch 125/250 completed.\n",
            "Epoch 150/250 completed.\n",
            "Epoch 175/250 completed.\n",
            "Epoch 200/250 completed.\n",
            "Epoch 225/250 completed.\n",
            "Epoch 250/250 completed.\n"
          ]
        }
      ]
    },
    {
      "cell_type": "code",
      "source": [
        "plt.plot(train_loss_hist)"
      ],
      "metadata": {
        "colab": {
          "base_uri": "https://localhost:8080/",
          "height": 447
        },
        "id": "wK4zH1Q5uqLI",
        "outputId": "c68fc66b-e1a0-4820-96df-ed896ed7c10b"
      },
      "execution_count": 51,
      "outputs": [
        {
          "output_type": "execute_result",
          "data": {
            "text/plain": [
              "[<matplotlib.lines.Line2D at 0x7b41aec28160>]"
            ]
          },
          "metadata": {},
          "execution_count": 51
        },
        {
          "output_type": "display_data",
          "data": {
            "text/plain": [
              "<Figure size 640x480 with 1 Axes>"
            ],
            "image/png": "[encoded data removed]"
          },
          "metadata": {}
        }
      ]
    },
    {
      "cell_type": "code",
      "source": [
        "plt.plot(train_loss_VTC_hist)\n",
        "plt.plot(train_loss_PFC_hist)\n",
        "plt.plot(train_loss_class_hist)\n",
        "plt.plot(train_loss_hist)"
      ],
      "metadata": {
        "colab": {
          "base_uri": "https://localhost:8080/",
          "height": 447
        },
        "id": "p0QHaENb3ucq",
        "outputId": "20604cb2-8f2b-4609-8c4b-3971b11f897b"
      },
      "execution_count": 64,
      "outputs": [
        {
          "output_type": "execute_result",
          "data": {
            "text/plain": [
              "[<matplotlib.lines.Line2D at 0x7b41aea6c520>]"
            ]
          },
          "metadata": {},
          "execution_count": 64
        },
        {
          "output_type": "display_data",
          "data": {
            "text/plain": [
              "<Figure size 640x480 with 1 Axes>"
            ],
            "image/png": "[encoded data removed]"
          },
          "metadata": {}
        }
      ]
    },
    {
      "cell_type": "markdown",
      "source": [
        "##Plotting the model"
      ],
      "metadata": {
        "id": "eWELS0aYuPFf"
      }
    },
    {
      "cell_type": "code",
      "source": [
        "!pip install netron\n",
        "!pip install onnx\n",
        "import torch.onnx\n",
        "#import onnx\n",
        "\n",
        "data_iterator = iter(train_dataset)\n",
        "first_batch = next(data_iterator)\n",
        "\n",
        "# The first_batch contains the first set of batches (features and labels)\n",
        "VTC, PFC, Class= first_batch\n",
        "# Convert to ONNX model\n",
        "torch.onnx.export(model, VTC, \"model.onnx\", verbose=True)\n",
        "\n",
        "# Start Netron and open the model in your browser\n",
        "import netron\n",
        "netron.start('model.onnx')\n",
        "# Web App: Can be oppened online using Netron's web viewern\n",
        "# Load the ONNX model\n",
        "model = onnx.load(\"model.onnx\")\n",
        "\n",
        "# Check the model\n",
        "onnx.checker.check_model(model)\n",
        "\n",
        "# Print a human-readable representation of the model\n",
        "print(onnx.helper.printable_graph(model.graph))"
      ],
      "metadata": {
        "colab": {
          "base_uri": "https://localhost:8080/",
          "height": 473
        },
        "id": "G1T_eD62p9fy",
        "outputId": "f68a2dc8-4700-4416-b3ce-6ed7a2d55dbc"
      },
      "execution_count": null,
      "outputs": [
        {
          "output_type": "stream",
          "name": "stdout",
          "text": [
            "Requirement already satisfied: netron in /usr/local/lib/python3.10/dist-packages (7.5.8)\n",
            "Requirement already satisfied: onnx in /usr/local/lib/python3.10/dist-packages (1.16.0)\n",
            "Requirement already satisfied: numpy>=1.20 in /usr/local/lib/python3.10/dist-packages (from onnx) (1.25.2)\n",
            "Requirement already satisfied: protobuf>=3.20.2 in /usr/local/lib/python3.10/dist-packages (from onnx) (3.20.3)\n"
          ]
        },
        {
          "output_type": "error",
          "ename": "AttributeError",
          "evalue": "modules",
          "traceback": [
            "\u001b[0;31m---------------------------------------------------------------------------\u001b[0m",
            "\u001b[0;31mAttributeError\u001b[0m                            Traceback (most recent call last)",
            "\u001b[0;32m<ipython-input-39-ab7df892919b>\u001b[0m in \u001b[0;36m<cell line: 12>\u001b[0;34m()\u001b[0m\n\u001b[1;32m     10\u001b[0m \u001b[0mVTC\u001b[0m\u001b[0;34m,\u001b[0m \u001b[0mPFC\u001b[0m\u001b[0;34m,\u001b[0m \u001b[0mClass\u001b[0m\u001b[0;34m=\u001b[0m \u001b[0mfirst_batch\u001b[0m\u001b[0;34m\u001b[0m\u001b[0;34m\u001b[0m\u001b[0m\n\u001b[1;32m     11\u001b[0m \u001b[0;31m# Convert to ONNX model\u001b[0m\u001b[0;34m\u001b[0m\u001b[0;34m\u001b[0m\u001b[0m\n\u001b[0;32m---> 12\u001b[0;31m \u001b[0mtorch\u001b[0m\u001b[0;34m.\u001b[0m\u001b[0monnx\u001b[0m\u001b[0;34m.\u001b[0m\u001b[0mexport\u001b[0m\u001b[0;34m(\u001b[0m\u001b[0mmodel\u001b[0m\u001b[0;34m,\u001b[0m \u001b[0mVTC\u001b[0m\u001b[0;34m,\u001b[0m \u001b[0;34m\"model.onnx\"\u001b[0m\u001b[0;34m,\u001b[0m \u001b[0mverbose\u001b[0m\u001b[0;34m=\u001b[0m\u001b[0;32mTrue\u001b[0m\u001b[0;34m)\u001b[0m\u001b[0;34m\u001b[0m\u001b[0;34m\u001b[0m\u001b[0m\n\u001b[0m\u001b[1;32m     13\u001b[0m \u001b[0;34m\u001b[0m\u001b[0m\n\u001b[1;32m     14\u001b[0m \u001b[0;31m# Start Netron and open the model in your browser\u001b[0m\u001b[0;34m\u001b[0m\u001b[0;34m\u001b[0m\u001b[0m\n",
            "\u001b[0;32m/usr/local/lib/python3.10/dist-packages/torch/onnx/utils.py\u001b[0m in \u001b[0;36mexport\u001b[0;34m(model, args, f, export_params, verbose, training, input_names, output_names, operator_export_type, opset_version, do_constant_folding, dynamic_axes, keep_initializers_as_inputs, custom_opsets, export_modules_as_functions, autograd_inlining)\u001b[0m\n\u001b[1;32m    514\u001b[0m     \"\"\"\n\u001b[1;32m    515\u001b[0m \u001b[0;34m\u001b[0m\u001b[0m\n\u001b[0;32m--> 516\u001b[0;31m     _export(\n\u001b[0m\u001b[1;32m    517\u001b[0m         \u001b[0mmodel\u001b[0m\u001b[0;34m,\u001b[0m\u001b[0;34m\u001b[0m\u001b[0;34m\u001b[0m\u001b[0m\n\u001b[1;32m    518\u001b[0m         \u001b[0margs\u001b[0m\u001b[0;34m,\u001b[0m\u001b[0;34m\u001b[0m\u001b[0;34m\u001b[0m\u001b[0m\n",
            "\u001b[0;32m/usr/local/lib/python3.10/dist-packages/torch/onnx/utils.py\u001b[0m in \u001b[0;36m_export\u001b[0;34m(model, args, f, export_params, verbose, training, input_names, output_names, operator_export_type, export_type, opset_version, do_constant_folding, dynamic_axes, keep_initializers_as_inputs, fixed_batch_size, custom_opsets, add_node_names, onnx_shape_inference, export_modules_as_functions, autograd_inlining)\u001b[0m\n\u001b[1;32m   1588\u001b[0m             )\n\u001b[1;32m   1589\u001b[0m \u001b[0;34m\u001b[0m\u001b[0m\n\u001b[0;32m-> 1590\u001b[0;31m         \u001b[0;32mwith\u001b[0m \u001b[0mexporter_context\u001b[0m\u001b[0;34m(\u001b[0m\u001b[0mmodel\u001b[0m\u001b[0;34m,\u001b[0m \u001b[0mtraining\u001b[0m\u001b[0;34m,\u001b[0m \u001b[0mverbose\u001b[0m\u001b[0;34m)\u001b[0m\u001b[0;34m:\u001b[0m\u001b[0;34m\u001b[0m\u001b[0;34m\u001b[0m\u001b[0m\n\u001b[0m\u001b[1;32m   1591\u001b[0m             val_keep_init_as_ip = _decide_keep_init_as_input(\n\u001b[1;32m   1592\u001b[0m                 \u001b[0mkeep_initializers_as_inputs\u001b[0m\u001b[0;34m,\u001b[0m\u001b[0;34m\u001b[0m\u001b[0;34m\u001b[0m\u001b[0m\n",
            "\u001b[0;32m/usr/lib/python3.10/contextlib.py\u001b[0m in \u001b[0;36m__enter__\u001b[0;34m(self)\u001b[0m\n\u001b[1;32m    133\u001b[0m         \u001b[0;32mdel\u001b[0m \u001b[0mself\u001b[0m\u001b[0;34m.\u001b[0m\u001b[0margs\u001b[0m\u001b[0;34m,\u001b[0m \u001b[0mself\u001b[0m\u001b[0;34m.\u001b[0m\u001b[0mkwds\u001b[0m\u001b[0;34m,\u001b[0m \u001b[0mself\u001b[0m\u001b[0;34m.\u001b[0m\u001b[0mfunc\u001b[0m\u001b[0;34m\u001b[0m\u001b[0;34m\u001b[0m\u001b[0m\n\u001b[1;32m    134\u001b[0m         \u001b[0;32mtry\u001b[0m\u001b[0;34m:\u001b[0m\u001b[0;34m\u001b[0m\u001b[0;34m\u001b[0m\u001b[0m\n\u001b[0;32m--> 135\u001b[0;31m             \u001b[0;32mreturn\u001b[0m \u001b[0mnext\u001b[0m\u001b[0;34m(\u001b[0m\u001b[0mself\u001b[0m\u001b[0;34m.\u001b[0m\u001b[0mgen\u001b[0m\u001b[0;34m)\u001b[0m\u001b[0;34m\u001b[0m\u001b[0;34m\u001b[0m\u001b[0m\n\u001b[0m\u001b[1;32m    136\u001b[0m         \u001b[0;32mexcept\u001b[0m \u001b[0mStopIteration\u001b[0m\u001b[0;34m:\u001b[0m\u001b[0;34m\u001b[0m\u001b[0;34m\u001b[0m\u001b[0m\n\u001b[1;32m    137\u001b[0m             \u001b[0;32mraise\u001b[0m \u001b[0mRuntimeError\u001b[0m\u001b[0;34m(\u001b[0m\u001b[0;34m\"generator didn't yield\"\u001b[0m\u001b[0;34m)\u001b[0m \u001b[0;32mfrom\u001b[0m \u001b[0;32mNone\u001b[0m\u001b[0;34m\u001b[0m\u001b[0;34m\u001b[0m\u001b[0m\n",
            "\u001b[0;32m/usr/local/lib/python3.10/dist-packages/torch/onnx/utils.py\u001b[0m in \u001b[0;36mexporter_context\u001b[0;34m(model, mode, verbose)\u001b[0m\n\u001b[1;32m    177\u001b[0m \u001b[0;34m@\u001b[0m\u001b[0m_beartype\u001b[0m\u001b[0;34m.\u001b[0m\u001b[0mbeartype\u001b[0m\u001b[0;34m\u001b[0m\u001b[0;34m\u001b[0m\u001b[0m\n\u001b[1;32m    178\u001b[0m \u001b[0;32mdef\u001b[0m \u001b[0mexporter_context\u001b[0m\u001b[0;34m(\u001b[0m\u001b[0mmodel\u001b[0m\u001b[0;34m,\u001b[0m \u001b[0mmode\u001b[0m\u001b[0;34m:\u001b[0m \u001b[0m_C_onnx\u001b[0m\u001b[0;34m.\u001b[0m\u001b[0mTrainingMode\u001b[0m\u001b[0;34m,\u001b[0m \u001b[0mverbose\u001b[0m\u001b[0;34m:\u001b[0m \u001b[0mbool\u001b[0m\u001b[0;34m)\u001b[0m\u001b[0;34m:\u001b[0m\u001b[0;34m\u001b[0m\u001b[0;34m\u001b[0m\u001b[0m\n\u001b[0;32m--> 179\u001b[0;31m     with select_model_mode_for_export(\n\u001b[0m\u001b[1;32m    180\u001b[0m         \u001b[0mmodel\u001b[0m\u001b[0;34m,\u001b[0m \u001b[0mmode\u001b[0m\u001b[0;34m\u001b[0m\u001b[0;34m\u001b[0m\u001b[0m\n\u001b[1;32m    181\u001b[0m     \u001b[0;34m)\u001b[0m \u001b[0;32mas\u001b[0m \u001b[0mmode_ctx\u001b[0m\u001b[0;34m,\u001b[0m \u001b[0mdisable_apex_o2_state_dict_hook\u001b[0m\u001b[0;34m(\u001b[0m\u001b[0;34m\u001b[0m\u001b[0;34m\u001b[0m\u001b[0m\n",
            "\u001b[0;32m/usr/lib/python3.10/contextlib.py\u001b[0m in \u001b[0;36m__enter__\u001b[0;34m(self)\u001b[0m\n\u001b[1;32m    133\u001b[0m         \u001b[0;32mdel\u001b[0m \u001b[0mself\u001b[0m\u001b[0;34m.\u001b[0m\u001b[0margs\u001b[0m\u001b[0;34m,\u001b[0m \u001b[0mself\u001b[0m\u001b[0;34m.\u001b[0m\u001b[0mkwds\u001b[0m\u001b[0;34m,\u001b[0m \u001b[0mself\u001b[0m\u001b[0;34m.\u001b[0m\u001b[0mfunc\u001b[0m\u001b[0;34m\u001b[0m\u001b[0;34m\u001b[0m\u001b[0m\n\u001b[1;32m    134\u001b[0m         \u001b[0;32mtry\u001b[0m\u001b[0;34m:\u001b[0m\u001b[0;34m\u001b[0m\u001b[0;34m\u001b[0m\u001b[0m\n\u001b[0;32m--> 135\u001b[0;31m             \u001b[0;32mreturn\u001b[0m \u001b[0mnext\u001b[0m\u001b[0;34m(\u001b[0m\u001b[0mself\u001b[0m\u001b[0;34m.\u001b[0m\u001b[0mgen\u001b[0m\u001b[0;34m)\u001b[0m\u001b[0;34m\u001b[0m\u001b[0;34m\u001b[0m\u001b[0m\n\u001b[0m\u001b[1;32m    136\u001b[0m         \u001b[0;32mexcept\u001b[0m \u001b[0mStopIteration\u001b[0m\u001b[0;34m:\u001b[0m\u001b[0;34m\u001b[0m\u001b[0;34m\u001b[0m\u001b[0m\n\u001b[1;32m    137\u001b[0m             \u001b[0;32mraise\u001b[0m \u001b[0mRuntimeError\u001b[0m\u001b[0;34m(\u001b[0m\u001b[0;34m\"generator didn't yield\"\u001b[0m\u001b[0;34m)\u001b[0m \u001b[0;32mfrom\u001b[0m \u001b[0;32mNone\u001b[0m\u001b[0;34m\u001b[0m\u001b[0;34m\u001b[0m\u001b[0m\n",
            "\u001b[0;32m/usr/local/lib/python3.10/dist-packages/torch/onnx/utils.py\u001b[0m in \u001b[0;36mdisable_apex_o2_state_dict_hook\u001b[0;34m(model)\u001b[0m\n\u001b[1;32m    138\u001b[0m     \u001b[0;32mif\u001b[0m \u001b[0;32mnot\u001b[0m \u001b[0misinstance\u001b[0m\u001b[0;34m(\u001b[0m\u001b[0mmodel\u001b[0m\u001b[0;34m,\u001b[0m \u001b[0mtorch\u001b[0m\u001b[0;34m.\u001b[0m\u001b[0mjit\u001b[0m\u001b[0;34m.\u001b[0m\u001b[0mScriptFunction\u001b[0m\u001b[0;34m)\u001b[0m\u001b[0;34m:\u001b[0m\u001b[0;34m\u001b[0m\u001b[0;34m\u001b[0m\u001b[0m\n\u001b[1;32m    139\u001b[0m         \u001b[0mmodel_hooks\u001b[0m \u001b[0;34m=\u001b[0m \u001b[0;34m{\u001b[0m\u001b[0;34m}\u001b[0m  \u001b[0;31m# type: ignore[var-annotated]\u001b[0m\u001b[0;34m\u001b[0m\u001b[0;34m\u001b[0m\u001b[0m\n\u001b[0;32m--> 140\u001b[0;31m         \u001b[0;32mfor\u001b[0m \u001b[0mmodule\u001b[0m \u001b[0;32min\u001b[0m \u001b[0mmodel\u001b[0m\u001b[0;34m.\u001b[0m\u001b[0mmodules\u001b[0m\u001b[0;34m(\u001b[0m\u001b[0;34m)\u001b[0m\u001b[0;34m:\u001b[0m\u001b[0;34m\u001b[0m\u001b[0;34m\u001b[0m\u001b[0m\n\u001b[0m\u001b[1;32m    141\u001b[0m             \u001b[0;32mfor\u001b[0m \u001b[0mkey\u001b[0m\u001b[0;34m,\u001b[0m \u001b[0mhook\u001b[0m \u001b[0;32min\u001b[0m \u001b[0mmodule\u001b[0m\u001b[0;34m.\u001b[0m\u001b[0m_state_dict_hooks\u001b[0m\u001b[0;34m.\u001b[0m\u001b[0mitems\u001b[0m\u001b[0;34m(\u001b[0m\u001b[0;34m)\u001b[0m\u001b[0;34m:\u001b[0m\u001b[0;34m\u001b[0m\u001b[0;34m\u001b[0m\u001b[0m\n\u001b[1;32m    142\u001b[0m                 \u001b[0;32mif\u001b[0m \u001b[0mtype\u001b[0m\u001b[0;34m(\u001b[0m\u001b[0mhook\u001b[0m\u001b[0;34m)\u001b[0m\u001b[0;34m.\u001b[0m\u001b[0m__name__\u001b[0m \u001b[0;34m==\u001b[0m \u001b[0;34m\"O2StateDictHook\"\u001b[0m\u001b[0;34m:\u001b[0m\u001b[0;34m\u001b[0m\u001b[0;34m\u001b[0m\u001b[0m\n",
            "\u001b[0;31mAttributeError\u001b[0m: modules"
          ]
        }
      ]
    },
    {
      "cell_type": "code",
      "source": [
        "data_iterator = iter(train_dataset)\n",
        "first_batch = next(data_iterator)\n"
      ],
      "metadata": {
        "id": "Jk5sHlkjuzEl"
      },
      "execution_count": null,
      "outputs": []
    },
    {
      "cell_type": "code",
      "source": [
        "a,b,c = first_batch"
      ],
      "metadata": {
        "id": "a19QNN9gu0_D"
      },
      "execution_count": null,
      "outputs": []
    },
    {
      "cell_type": "code",
      "source": [
        "a.shape"
      ],
      "metadata": {
        "colab": {
          "base_uri": "https://localhost:8080/"
        },
        "id": "gPtW3FDgv4UH",
        "outputId": "13c02903-7182-4ddb-8c88-ea922ec83525"
      },
      "execution_count": null,
      "outputs": [
        {
          "output_type": "execute_result",
          "data": {
            "text/plain": [
              "torch.Size([2401])"
            ]
          },
          "metadata": {},
          "execution_count": 33
        }
      ]
    }
  ]
}