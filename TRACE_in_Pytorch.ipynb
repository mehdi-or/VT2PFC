{
  "cells": [
    {
      "cell_type": "markdown",
      "metadata": {
        "id": "view-in-github",
        "colab_type": "text"
      },
      "source": [
        "<a href=\"https://colab.research.google.com/github/mehdi-or/VT2PFC/blob/main/TRACE_in_Pytorch.ipynb\" target=\"_parent\"><img src=\"https://colab.research.google.com/assets/colab-badge.svg\" alt=\"Open In Colab\"/></a>"
      ]
    },
    {
      "cell_type": "code",
      "execution_count": null,
      "metadata": {
        "colab": {
          "base_uri": "https://localhost:8080/"
        },
        "id": "dE8Yyr9w6gw8",
        "outputId": "af16350e-06e0-45ec-9e53-49dee85f9d0b"
      },
      "outputs": [
        {
          "name": "stdout",
          "output_type": "stream",
          "text": [
            "Mounted at /content/gdrive\n"
          ]
        }
      ],
      "source": [
        "import sys\n",
        "from google.colab import drive\n",
        "drive.mount('/content/gdrive')\n",
        "\n",
        "import torch\n",
        "import torch.nn as nn\n",
        "import torch.nn.functional as F\n",
        "from torch.utils.data import DataLoader\n",
        "import torchvision\n",
        "from torchvision import datasets, transforms\n",
        "import torchvision.transforms as transforms\n",
        "import torch.optim as optim\n",
        "import matplotlib.pyplot as plt\n",
        "from sklearn.preprocessing import MinMaxScaler\n",
        "import random\n",
        "import matplotlib.pyplot as plt\n",
        "import numpy as np\n",
        "import pandas as pd\n",
        "import h5py\n",
        "from sklearn.model_selection import train_test_split\n",
        "from torch.utils.data import TensorDataset"
      ]
    },
    {
      "cell_type": "markdown",
      "metadata": {
        "id": "U7sVwpEV6oei"
      },
      "source": [
        "##finction to set the random see for reproducibility purposes"
      ]
    },
    {
      "cell_type": "code",
      "execution_count": null,
      "metadata": {
        "id": "C1eQCxhD6mpQ"
      },
      "outputs": [],
      "source": [
        "def set_seed(seed_value=42):\n",
        "    \"\"\"Set seed for reproducibility.\"\"\"\n",
        "    random.seed(seed_value)  # Python random module\n",
        "    np.random.seed(seed_value)  # Numpy module\n",
        "    torch.manual_seed(seed_value)  # PyTorch random number generator for CPU\n",
        "\n",
        "    # If you are using CUDA\n",
        "    torch.cuda.manual_seed(seed_value)\n",
        "    torch.cuda.manual_seed_all(seed_value)  # if you are using multi-GPU.\n",
        "\n",
        "    # Additional configurations to enhance reproducibility\n",
        "    torch.backends.cudnn.deterministic = True\n",
        "    torch.backends.cudnn.benchmark = False"
      ]
    },
    {
      "cell_type": "markdown",
      "metadata": {
        "id": "vThEabuF6s7A"
      },
      "source": [
        "##setting up the architecture of the network"
      ]
    },
    {
      "cell_type": "code",
      "execution_count": null,
      "metadata": {
        "id": "H2dgM2Zt6c37"
      },
      "outputs": [],
      "source": [
        "class DATRACE(nn.Module):\n",
        "    def __init__(self, VTC_dim, PFC_dim, hidden_dim, bottleneck_dim, num_classes):\n",
        "        super(DATRACE, self).__init__()\n",
        "        # Encoding layers for the VTC\n",
        "        self.encoder_VTC = nn.Linear(VTC_dim, hidden_dim)\n",
        "\n",
        "        # Shared bottleneck layer\n",
        "        self.shared_bottleneck = nn.Linear(hidden_dim, bottleneck_dim)\n",
        "\n",
        "        # Decoding layers for PFC\n",
        "        self.decoder = nn.Linear(bottleneck_dim, hidden_dim)\n",
        "        self.prediction_PFC = nn.Linear(hidden_dim, PFC_dim)\n",
        "\n",
        "        # Classification layer attached to the shared bottleneck\n",
        "        self.classifier = nn.Linear(bottleneck_dim, num_classes)\n",
        "\n",
        "        # Dropout layer\n",
        "        self.dropout = nn.Dropout(p=0.2)\n",
        "\n",
        "    def forward(self, x1):\n",
        "        # Encoder VTC\n",
        "        enocded_VTC = torch.tanh(self.encoder_VTC(x1))\n",
        "        enocded_VTC = self.dropout(enocded_VTC)\n",
        "        BN_shared = torch.tanh(self.shared_bottleneck(enocded_VTC))\n",
        "        # Decoder PFC\n",
        "        decoded = torch.tanh(self.decoder(BN_shared))\n",
        "        predicted_PFC = self.prediction_PFC(decoded)\n",
        "\n",
        "        # Classifier\n",
        "        logits = self.classifier(BN_shared)\n",
        "        probabilities = logits\n",
        "\n",
        "        return predicted_PFC, probabilities\n",
        "\n",
        "# logistic classifier\n",
        "class LogisticRegression(nn.Module):\n",
        "    def __init__(self, input_size, num_classes):\n",
        "        super(LogisticRegression, self).__init__()\n",
        "        self.linear = nn.Linear(input_size, num_classes)\n",
        "\n",
        "    def forward(self, x):\n",
        "        return self.linear(x)\n",
        "\n",
        "#correlation custom loss function\n",
        "class CorrelationLoss(torch.nn.Module):\n",
        "    def __init__(self):\n",
        "        super(CorrelationLoss, self).__init__()\n",
        "\n",
        "    def forward(self, x, y):\n",
        "        # Ensure input is float for accurate mean and std calculations\n",
        "        x = x.float()\n",
        "        y = y.float()\n",
        "\n",
        "        # Mean and standard deviation along the trials dimension\n",
        "        x_mean = x.mean(dim=1, keepdim=True)\n",
        "        y_mean = y.mean(dim=1, keepdim=True)\n",
        "        x_std = x.std(dim=1, keepdim=True)\n",
        "        y_std = y.std(dim=1, keepdim=True)\n",
        "\n",
        "        # Covariance calculation\n",
        "        covariance = ((x - x_mean) * (y - y_mean)).mean(dim=1)\n",
        "        # Avoid division by zero\n",
        "        eps = 1e-8\n",
        "        correlation = covariance / (x_std * y_std + eps)\n",
        "\n",
        "        # Negative mean correlation across all samples and features\n",
        "        mean_correlation = correlation.mean()\n",
        "        return -mean_correlation"
      ]
    },
    {
      "cell_type": "markdown",
      "metadata": {
        "id": "NI9ivSr67NEA"
      },
      "source": [
        "##importing the data"
      ]
    },
    {
      "cell_type": "code",
      "execution_count": null,
      "metadata": {
        "id": "nvj90ygO7L7t"
      },
      "outputs": [],
      "source": [
        "def load_data_VTC(subject):\n",
        "    with h5py.File(r'/content/gdrive/MyDrive/Colab Notebooks/CNC data/hrfAll_VT_PETERS.hdf5', 'r') as hdf:\n",
        "        data0 = hdf.get('items/'+str(subject)+'/rcargs/items/0')\n",
        "        data_vtc = np.array(data0)\n",
        "        data_vtc = np.delete(data_vtc,np.where(~data_vtc.any(axis=0))[0],axis=1)\n",
        "    return(data_vtc)\n",
        "\n",
        "def load_data_PFC(subject):\n",
        "    with h5py.File(r'/content/gdrive/MyDrive/Colab Notebooks/CNC data/hrfAll_DLPFC_PETERS.hdf5', 'r') as hdf:\n",
        "        data0_pfc = hdf.get('items/'+str(subject)+'/rcargs/items/0')\n",
        "        data_pfc = np.array(data0_pfc)\n",
        "        data_pfc = np.delete(data_pfc,np.where(~data_pfc.any(axis=0))[0],axis=1)\n",
        "    return(data_pfc)\n",
        "\n",
        "def preprocessign (data, labels2categ, shuffle_index):\n",
        "  data_train, data_test, y_categ_train, y_categ_test, map_train_index, map_test_index = train_test_split(data, labels2categ, shuffle_index, random_state=42)\n",
        "  #scaler = StandardScaler()\n",
        "  scaler = MinMaxScaler(feature_range=(-1,1))\n",
        "  X_train = scaler.fit_transform(data_train)\n",
        "  X_test = scaler.transform(data_test)\n",
        "  return X_train, X_test, y_categ_train, y_categ_test, map_train_index, map_test_index\n",
        "\n",
        "#setting the labels for pytorch is differen from keras\n",
        "# the way it works is that we need to assign a number to each categorical class\n",
        "unique_labels = pd.read_csv('/content/gdrive/MyDrive/Colab Notebooks/CNC data/unique_aranged.csv', header=None).values[:,1]\n",
        "labels = pd.read_csv('/content/gdrive/MyDrive/Colab Notebooks/CNC data/label.csv')['y'].values\n",
        "label_to_index = {label: idx for idx, label in enumerate(unique_labels)} #mapping form label to its numeric value\n",
        "index_to_label = {idx: label for label, idx in label_to_index.items()} #mapping from numeric label to the name of the label\n",
        "\n",
        "#turning label file into its numeric values\n",
        "numeric_labels = []\n",
        "for label in labels:\n",
        "  numeric_labels.append(label_to_index[label])\n",
        "\n",
        "numeric_labels = np.array(numeric_labels)\n",
        "device = torch.device(\"cuda\" if torch.cuda.is_available() else \"cpu\")\n",
        "#converting all the numpy array inot pytorch tensor\n",
        "\n",
        "VTC0 = load_data_VTC(37)\n",
        "#VTC0 = np.random.normal(0,1, (3600, 2450)) #giving random noise as VTC data\n",
        "PFC0 = load_data_PFC(37)\n",
        "VTC_dim = VTC0.shape[1]\n",
        "PFC_dim = PFC0.shape[1]\n",
        "num_classes = len(np.unique(labels))\n",
        "shuffle_index = np.arange(0,3600)\n",
        "VTC_train, VTC_test, y_train, y_test, map_train_index, map_test_index = preprocessign(VTC0, numeric_labels, shuffle_index)\n",
        "PFC_train, PFC_test, _, _, _, _ = preprocessign(PFC0, numeric_labels, shuffle_index)\n",
        "\n",
        "VTC_tensor_train = torch.tensor(VTC_train, dtype=torch.float32).to(device)\n",
        "VTC_tensor_test = torch.tensor(VTC_test, dtype=torch.float32).to(device)\n",
        "PFC_tensor_train = torch.tensor(PFC_train, dtype=torch.float32).to(device)\n",
        "PFC_tensor_test = torch.tensor(PFC_test, dtype=torch.float32).to(device)\n",
        "y_tensor_train = torch.tensor(y_train)\n",
        "y_tensor_test =torch.tensor(y_test)\n",
        "\n",
        "train_dataset = TensorDataset(VTC_tensor_train, PFC_tensor_train, y_tensor_train)\n",
        "test_dataset = TensorDataset(VTC_tensor_test, PFC_tensor_test, y_tensor_test)\n",
        "\n",
        "# for spliting the train and test set for \"seperate-classifier\" evaluaton\n",
        "def make_dataloader(VTC_test, PFC_test, y_test):\n",
        "  trainidx = int(VTC_test.shape[0]*0.8)\n",
        "  VTC_test_train, VTC_test_test = VTC_test[:trainidx,:], VTC_test[trainidx:,:]\n",
        "  PFC_test_train, PFC_test_test = PFC_test[:trainidx,:], PFC_test[trainidx:,:]\n",
        "  y_test_train, y_test_test = y_test[:trainidx], y_test[trainidx:]\n",
        "\n",
        "  VTC_tensor_test_train = torch.tensor(VTC_test_train, dtype=torch.float32).to(device)\n",
        "  VTC_tensor_test_test = torch.tensor(VTC_test_test, dtype=torch.float32).to(device)\n",
        "  PFC_tensor_test_train = torch.tensor(PFC_test_train, dtype=torch.float32).to(device)\n",
        "  PFC_tensor_test_test = torch.tensor(PFC_test_test, dtype=torch.float32).to(device)\n",
        "  y_tensor_test_train = torch.tensor(y_test_train)\n",
        "  y_tensor_test_test =torch.tensor(y_test_test)\n",
        "\n",
        "  test_train_dataset = TensorDataset(VTC_tensor_test_train, PFC_tensor_test_train, y_tensor_test_train)\n",
        "  test_test_dataset = TensorDataset(VTC_tensor_test_test, PFC_tensor_test_test, y_tensor_test_test)\n",
        "\n",
        "  test_train_loader = DataLoader(test_train_dataset, batch_size=64, shuffle=True)\n",
        "  test_test_loader = DataLoader(test_test_dataset, batch_size=64, shuffle=False)\n",
        "  return test_train_loader, test_test_loader, VTC_tensor_test_test, PFC_tensor_test_test, y_tensor_test_test"
      ]
    },
    {
      "cell_type": "markdown",
      "metadata": {
        "id": "SdaBQjpLJe9h"
      },
      "source": [
        "##Function for calculating the metrics\n"
      ]
    },
    {
      "cell_type": "code",
      "execution_count": null,
      "metadata": {
        "id": "c4qCngYRJfpN"
      },
      "outputs": [],
      "source": [
        "def fidelity(x, x_pred):\n",
        "  #x = x.detach().numpy()\n",
        "  #x_pred = x_pred.detach().numpy()\n",
        "  #calculating recons fidelity\n",
        "  corr_x = np.corrcoef(x, x_pred)[:x.shape[0],x.shape[0]:]\n",
        "  corr_x = np.diag(corr_x)\n",
        "  recons_fidelity = np.mean(corr_x)\n",
        "  return recons_fidelity\n",
        "\n",
        "def log_classifier(model, train_loader, val_loader, epochs=10):\n",
        "    # Initializing the criterion and optimizer\n",
        "    criterion = nn.CrossEntropyLoss()\n",
        "    optimizer = optim.Adam(model.parameters(), lr=1e-4, weight_decay=1e-5)\n",
        "\n",
        "    for epoch in range(epochs):\n",
        "        set_seed(42 + epoch)\n",
        "        model.train()\n",
        "        for inputs, labels in train_loader:\n",
        "            optimizer.zero_grad()\n",
        "            outputs = model(inputs)\n",
        "            loss = criterion(outputs, labels)\n",
        "            loss.backward()\n",
        "            optimizer.step()\n",
        "\n",
        "        model.eval()\n",
        "        val_correct = 0\n",
        "        val_total = 0\n",
        "        with torch.no_grad():\n",
        "            for inputs, labels in val_loader:\n",
        "                outputs = model(inputs)\n",
        "                _, predicted = torch.max(outputs.data, 1)\n",
        "                val_total += labels.size(0)\n",
        "                val_correct += (predicted == labels).sum().item()\n",
        "    accur = val_correct / val_total\n",
        "    return model, accur\n"
      ]
    },
    {
      "cell_type": "markdown",
      "metadata": {
        "id": "Dp7vW6Ah4hpc"
      },
      "source": [
        "## function for training the model"
      ]
    },
    {
      "cell_type": "code",
      "execution_count": null,
      "metadata": {
        "id": "p0O4c7EW4SkL"
      },
      "outputs": [],
      "source": [
        "#train and val the network\n",
        "def train_and_val_network (train_loader, val_loader, num_classes=40, BN_dim=30, num_epochs=300, alpha=0.1):\n",
        "  data_iterator = iter(val_loader)\n",
        "  input_VTC, input_PFC, labels = next(data_iterator)\n",
        "  VTC_dim = input_VTC.shape[1]\n",
        "  input_PFC = input_PFC.shape[1]\n",
        "\n",
        "  # Define the model, optimizer, and loss functions\n",
        "  model = DATRACE(VTC_dim=VTC_dim, PFC_dim=PFC_dim, hidden_dim=500, bottleneck_dim=BN_dim, num_classes=num_classes)\n",
        "  optimizer = optim.Adam(model.parameters(), lr=1e-4, weight_decay=1e-5)\n",
        "  #mse_loss_fn = nn.MSELoss()\n",
        "  mse_loss_fn = nn.L1Loss()\n",
        "  #mse_loss_fn = CorrelatonLoss()\n",
        "  classification_loss_fn = nn.CrossEntropyLoss()\n",
        "  train_loss_PFC_hist = []\n",
        "  train_loss_class_hist = []\n",
        "  val_PFC_loss_hist = []\n",
        "  train_loss_hist = []\n",
        "  val_loss_hist = []\n",
        "  for epoch in range(num_epochs):\n",
        "      train_loss = 0\n",
        "      predicted_loss_PFC = 0\n",
        "      classification_loss = 0\n",
        "      set_seed(42 + epoch)\n",
        "      model.train()\n",
        "      for input_VTC, input_PFC, labels in train_loader:\n",
        "          optimizer.zero_grad()\n",
        "          predicted_PFC, probabilities = model(input_VTC)\n",
        "          # Calculate losses\n",
        "          predicted_loss_PFC0 = mse_loss_fn(predicted_PFC, input_PFC)\n",
        "          classification_loss0 = classification_loss_fn(probabilities, labels)\n",
        "          # Total loss\n",
        "          total_loss = predicted_loss_PFC0 + alpha*classification_loss0\n",
        "          # Backpropagation and optimizer step\n",
        "          total_loss.backward()\n",
        "          optimizer.step()\n",
        "          predicted_loss_PFC += predicted_loss_PFC0.item()\n",
        "          classification_loss += classification_loss0.item()\n",
        "          train_loss += total_loss.item()\n",
        "      predicted_loss_PFC /= len(train_loader)\n",
        "      classification_loss /= len(train_loader)\n",
        "      train_loss /= len(train_loader)\n",
        "      train_loss_PFC_hist.append(predicted_loss_PFC)\n",
        "      train_loss_class_hist.append(classification_loss)\n",
        "      train_loss_hist.append(train_loss)\n",
        "\n",
        "      # Validation\n",
        "      model.eval()\n",
        "      val_loss = 0\n",
        "      val_PFC_loss = 0\n",
        "      with torch.no_grad():\n",
        "          for input_VTC, input_PFC, labels in val_loader:\n",
        "              reconstructed, probabilities = model(input_VTC)\n",
        "              PFC_loss = mse_loss_fn(reconstructed, input_PFC)\n",
        "              classification_loss = classification_loss_fn(probabilities, labels)\n",
        "              loss = PFC_loss + alpha*classification_loss\n",
        "              val_PFC_loss += PFC_loss.item()\n",
        "              val_loss += loss.item()\n",
        "\n",
        "      val_PFC_loss /= len(val_loader)\n",
        "      val_loss /= len(val_loader)\n",
        "      val_PFC_loss_hist.append(val_PFC_loss)\n",
        "      val_loss_hist.append(val_loss)\n",
        "\n",
        "      if (epoch+1)%(num_epochs/10)==0:\n",
        "        print(f\"Epoch {epoch+1}/{num_epochs} completed for alpha={alpha}.\")\n",
        "  return model, train_loss_hist, val_loss_hist\n",
        "\n",
        "\n",
        "# writting a for loop to run the model for different bottleneck dimensions\n",
        "# And calculating the metrics we want\n",
        "set_seed(42) # to get the same training and testset everytime\n",
        "train_loader = DataLoader(train_dataset, batch_size=64, shuffle=True)\n",
        "val_loader = DataLoader(test_dataset, batch_size=64, shuffle=False)\n",
        "\n",
        "test_train_loader, test_test_loader,_, PFC_tensor_test_test, y_tensor_test_test = make_dataloader(VTC_test, PFC_test, y_test)\n",
        "#test_train_loader = DataLoader(test_train_dataset, batch_size=64, shuffle=True)\n",
        "#test_test_loader = DataLoader(test_test_dataset, batch_size=64, shuffle=False)\n",
        "\n",
        "alpha = 0.1 # Classifier weigth of the network\n",
        "num_epochs = 300\n",
        "num_classes = 40\n",
        "BN_dims = [20, 50, 200, 300, 500]\n",
        "accuracies = []\n",
        "pfc_fidels = []\n",
        "for BN_dim in BN_dims:\n",
        "  model, train_loss_hist, val_loss_hist = train_and_val_network(train_loader, val_loader, num_classes, BN_dim, num_epochs, alpha)\n",
        "  # Fetch a batch of test images\n",
        "  predicted_pfc, pred_labels = model(VTC_tensor_test)\n",
        "  predicted_pfc = predicted_pfc.detach().numpy()\n",
        "\n",
        "  # training the seperate classifier\n",
        "  trainidx = int(VTC_test.shape[0]*0.8)\n",
        "  PFC_test_train, PFC_test_test = predicted_pfc[:trainidx,:], predicted_pfc[trainidx:,:]\n",
        "  y_test_train, y_test_test = y_test[:trainidx], y_test[trainidx:]\n",
        "  PFC_tensor_test_train = torch.tensor(PFC_test_train, dtype=torch.float32).to(device)\n",
        "  PFC_tensor_test_test = torch.tensor(PFC_test_test, dtype=torch.float32).to(device)\n",
        "  y_tensor_test_train = torch.tensor(y_test_train)\n",
        "  y_tensor_test_test =torch.tensor(y_test_test)\n",
        "  test_train_dataset = TensorDataset(PFC_tensor_test_train, y_tensor_test_train)\n",
        "  test_test_dataset = TensorDataset(PFC_tensor_test_test, y_tensor_test_test)\n",
        "  test_train_loader = DataLoader(test_train_dataset, batch_size=64, shuffle=True)\n",
        "  test_test_loader = DataLoader(test_test_dataset, batch_size=64, shuffle=False)\n",
        "\n",
        "  classifier = LogisticRegression(PFC_dim, num_classes)\n",
        "  classifier_trained = log_classifier(classifier, test_train_loader, test_test_loader, epochs=num_epochs)\n",
        "  outputs, accu = classifier_trained(PFC_tensor_test_test)\n",
        "  val_total = y_tensor_test_test.size(0)\n",
        "  _, predicted = torch.max(outputs.data, 1)\n",
        "  val_correct = (predicted == y_tensor_test_test).sum().item()\n",
        "  accuracy = val_correct/val_total\n",
        "  accuracies.append(accuracy)\n",
        "\n",
        "  pfc_fidel = fidelity(PFC_test[trainidx:,:], PFC_test_test)\n",
        "  pfc_fidels.append(pfc_fidel)\n",
        "\n",
        "\n",
        "print(predicted_pfc.shape)\n",
        "'''\n",
        "# 4. Plotting the loss evolution\n",
        "plt.figure(figsize=(10, 5))\n",
        "plt.plot(train_loss_PFC_hist, label='Training PFC')\n",
        "plt.plot(train_loss_class_hist, label='Training classifier')\n",
        "'''\n",
        "plt.plot(train_loss_hist, label='Training Loss')\n",
        "plt.plot(val_loss_hist, label='Validation Loss')\n",
        "plt.xlabel('Epoch')\n",
        "plt.ylabel('Loss')\n",
        "plt.legend()\n",
        "plt.title('Training and Validation Loss Evolution')\n",
        "plt.show()"
      ]
    },
    {
      "cell_type": "code",
      "execution_count": 19,
      "metadata": {
        "colab": {
          "base_uri": "https://localhost:8080/"
        },
        "id": "_9nlRD8jryaj",
        "outputId": "a4a7e0d1-208a-4f79-99e4-99c484b5bee0"
      },
      "outputs": [
        {
          "output_type": "execute_result",
          "data": {
            "text/plain": [
              "[0.6555555555555556, 0.7055555555555556, 0.65, 0.6, 0.5555555555555556]"
            ]
          },
          "metadata": {},
          "execution_count": 19
        }
      ],
      "source": [
        "accuracies"
      ]
    },
    {
      "cell_type": "code",
      "execution_count": null,
      "metadata": {
        "colab": {
          "base_uri": "https://localhost:8080/"
        },
        "id": "eogJblAnLNne",
        "outputId": "040f07f3-3754-44d8-c006-5363a345cea8"
      },
      "outputs": [
        {
          "data": {
            "text/plain": [
              "0.2111111111111111"
            ]
          },
          "execution_count": 63,
          "metadata": {},
          "output_type": "execute_result"
        }
      ],
      "source": [
        "accuracy"
      ]
    },
    {
      "cell_type": "code",
      "source": [
        "pfc_fidels"
      ],
      "metadata": {
        "id": "Zv4jAFZPhjvg",
        "outputId": "dde1392f-0517-458e-c492-f1f086bd264f",
        "colab": {
          "base_uri": "https://localhost:8080/"
        }
      },
      "execution_count": 20,
      "outputs": [
        {
          "output_type": "execute_result",
          "data": {
            "text/plain": [
              "[0.5524464499487045,\n",
              " 0.6869093810127025,\n",
              " 0.7834357335593011,\n",
              " 0.8107217315896068,\n",
              " 0.8331365428775155]"
            ]
          },
          "metadata": {},
          "execution_count": 20
        }
      ]
    },
    {
      "cell_type": "code",
      "execution_count": null,
      "metadata": {
        "colab": {
          "base_uri": "https://localhost:8080/"
        },
        "id": "zoB-t3kziK9E",
        "outputId": "ca5241ad-128a-4d13-964e-a4c2839760a9"
      },
      "outputs": [
        {
          "data": {
            "text/plain": [
              "0.2"
            ]
          },
          "execution_count": 48,
          "metadata": {},
          "output_type": "execute_result"
        }
      ],
      "source": [
        "set_seed(42)\n",
        "classifier = LogisticRegression(PFC_dim, num_classes)\n",
        "classifier_trained, accur = log_classifier(classifier, test_train_loader, test_test_loader, epochs=30)\n",
        "outputs = classifier_trained(PFC_tensor_test_test) #classifier always takes PFC here\n",
        "_, predicted = torch.max(outputs.data, 1)\n",
        "val_total = y_tensor_test_test.size(0)\n",
        "val_correct = (predicted == y_tensor_test_test).sum().item()\n",
        "accuracy = val_correct/val_total\n",
        "accuracy"
      ]
    },
    {
      "cell_type": "code",
      "execution_count": null,
      "metadata": {
        "colab": {
          "base_uri": "https://localhost:8080/",
          "height": 472
        },
        "id": "Mzxl_c7_9MjY",
        "outputId": "2c16ae81-3a63-4245-e45b-9728e45351db"
      },
      "outputs": [
        {
          "data": {
            "image/png": "[encoded data removed]",
            "text/plain": [
              "<Figure size 640x480 with 1 Axes>"
            ]
          },
          "metadata": {},
          "output_type": "display_data"
        }
      ],
      "source": [
        "plt.plot(train_loss_hist, label='Training Loss')\n",
        "plt.plot(val_loss_hist, label='Validation Loss')\n",
        "plt.xlabel('Epoch')\n",
        "plt.ylabel('Loss')\n",
        "plt.legend()\n",
        "plt.title('Training and Validation Loss Evolution')\n",
        "plt.show()"
      ]
    },
    {
      "cell_type": "markdown",
      "metadata": {
        "id": "B-x3erct4SVF"
      },
      "source": [
        "##plotting the loss functions"
      ]
    },
    {
      "cell_type": "code",
      "execution_count": null,
      "metadata": {
        "colab": {
          "base_uri": "https://localhost:8080/",
          "height": 462
        },
        "id": "ZUKnwGSyRvsr",
        "outputId": "e2bb3e10-d1df-4cac-963b-82fae3bfbded"
      },
      "outputs": [
        {
          "data": {
            "text/plain": [
              "[<matplotlib.lines.Line2D at 0x7acb42cd2ad0>]"
            ]
          },
          "execution_count": 30,
          "metadata": {},
          "output_type": "execute_result"
        },
        {
          "data": {
            "image/png": "[encoded data removed]",
            "text/plain": [
              "<Figure size 1000x500 with 1 Axes>"
            ]
          },
          "metadata": {},
          "output_type": "display_data"
        }
      ],
      "source": [
        "\n",
        "# 4. Plotting the loss evolution\n",
        "plt.figure(figsize=(10, 5))\n",
        "plt.plot(train_loss_PFC_hist[-300:], label='Training PFC')\n",
        "#plt.plot(train_loss_class_hist, label='Training classifier')\n",
        "plt.plot(train_loss_hist[-300:], label='Training Loss')\n",
        "#plt.plot(val_loss_history, label='Validation Loss')"
      ]
    },
    {
      "cell_type": "code",
      "execution_count": null,
      "metadata": {
        "id": "cNZXj3BADiku"
      },
      "outputs": [],
      "source": [
        "for i, loss in enumerate(best_alpha):\n",
        "  print(loss)\n",
        "  plt.plot(loss[-300:], label=alphas[i])\n",
        "plt.legend()"
      ]
    }
  ],
  "metadata": {
    "colab": {
      "provenance": [],
      "authorship_tag": "ABX9TyP33l5lG4jDDCeYE18Nj81R",
      "include_colab_link": true
    },
    "kernelspec": {
      "display_name": "Python 3",
      "name": "python3"
    },
    "language_info": {
      "name": "python"
    }
  },
  "nbformat": 4,
  "nbformat_minor": 0
}